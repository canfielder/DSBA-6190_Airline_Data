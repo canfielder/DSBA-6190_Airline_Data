{
  "nbformat": 4,
  "nbformat_minor": 0,
  "metadata": {
    "colab": {
      "name": "Data Science Portfolio - Airline Data.ipynb",
      "provenance": [],
      "collapsed_sections": [],
      "authorship_tag": "ABX9TyNTTPaAx0/oWOMClfPn1Z0h",
      "include_colab_link": true
    },
    "kernelspec": {
      "name": "python3",
      "display_name": "Python 3"
    }
  },
  "cells": [
    {
      "cell_type": "markdown",
      "metadata": {
        "id": "view-in-github",
        "colab_type": "text"
      },
      "source": [
        "<a href=\"https://colab.research.google.com/github/canfielder/DSBA-6190_Airline_Data/blob/master/Data_Science_Portfolio_Airline_Data.ipynb\" target=\"_parent\"><img src=\"https://colab.research.google.com/assets/colab-badge.svg\" alt=\"Open In Colab\"/></a>"
      ]
    },
    {
      "cell_type": "markdown",
      "metadata": {
        "id": "3kpXhH6CyW74",
        "colab_type": "text"
      },
      "source": [
        "# Ingest\n"
      ]
    },
    {
      "cell_type": "markdown",
      "metadata": {
        "id": "zBVCvv2gycZV",
        "colab_type": "text"
      },
      "source": [
        "## Libary / Package"
      ]
    },
    {
      "cell_type": "code",
      "metadata": {
        "id": "kX4wcCruyhYR",
        "colab_type": "code",
        "colab": {}
      },
      "source": [
        "import pandas as pd"
      ],
      "execution_count": 0,
      "outputs": []
    },
    {
      "cell_type": "markdown",
      "metadata": {
        "id": "DUDIMcutygEI",
        "colab_type": "text"
      },
      "source": [
        "## Data"
      ]
    },
    {
      "cell_type": "code",
      "metadata": {
        "id": "B3FXSYgVyhwq",
        "colab_type": "code",
        "colab": {}
      },
      "source": [
        "df = pd.read_csv(\"https://aws-tc-largeobjects.s3-us-west-2.amazonaws.com/CUR-TF-200-ACBDFO-1/Lab5/flightdata.csv\")"
      ],
      "execution_count": 0,
      "outputs": []
    },
    {
      "cell_type": "markdown",
      "metadata": {
        "id": "jlZpC8-QzHKM",
        "colab_type": "text"
      },
      "source": [
        "# EDA"
      ]
    },
    {
      "cell_type": "code",
      "metadata": {
        "id": "Q0sJdCMEzT-K",
        "colab_type": "code",
        "colab": {
          "base_uri": "https://localhost:8080/",
          "height": 304
        },
        "outputId": "ab60db9e-a72a-440e-c966-1efc0b8a6a6f"
      },
      "source": [
        "df.describe()"
      ],
      "execution_count": 4,
      "outputs": [
        {
          "output_type": "execute_result",
          "data": {
            "text/html": [
              "<div>\n",
              "<style scoped>\n",
              "    .dataframe tbody tr th:only-of-type {\n",
              "        vertical-align: middle;\n",
              "    }\n",
              "\n",
              "    .dataframe tbody tr th {\n",
              "        vertical-align: top;\n",
              "    }\n",
              "\n",
              "    .dataframe thead th {\n",
              "        text-align: right;\n",
              "    }\n",
              "</style>\n",
              "<table border=\"1\" class=\"dataframe\">\n",
              "  <thead>\n",
              "    <tr style=\"text-align: right;\">\n",
              "      <th></th>\n",
              "      <th>Year</th>\n",
              "      <th>Month</th>\n",
              "      <th>DayofMonth</th>\n",
              "      <th>DayOfWeek</th>\n",
              "      <th>DepTime</th>\n",
              "      <th>CRSDepTime</th>\n",
              "      <th>ArrTime</th>\n",
              "      <th>CRSArrTime</th>\n",
              "      <th>FlightNum</th>\n",
              "      <th>ActualElapsedTime</th>\n",
              "      <th>CRSElapsedTime</th>\n",
              "      <th>AirTime</th>\n",
              "      <th>ArrDelay</th>\n",
              "      <th>DepDelay</th>\n",
              "      <th>Distance</th>\n",
              "      <th>TaxiIn</th>\n",
              "      <th>TaxiOut</th>\n",
              "      <th>Cancelled</th>\n",
              "      <th>Diverted</th>\n",
              "      <th>CarrierDelay</th>\n",
              "      <th>WeatherDelay</th>\n",
              "      <th>NASDelay</th>\n",
              "      <th>SecurityDelay</th>\n",
              "      <th>LateAircraftDelay</th>\n",
              "    </tr>\n",
              "  </thead>\n",
              "  <tbody>\n",
              "    <tr>\n",
              "      <th>count</th>\n",
              "      <td>1048575.0</td>\n",
              "      <td>1.048575e+06</td>\n",
              "      <td>1.048575e+06</td>\n",
              "      <td>1.048575e+06</td>\n",
              "      <td>1.014612e+06</td>\n",
              "      <td>1.048575e+06</td>\n",
              "      <td>1.011963e+06</td>\n",
              "      <td>1.048575e+06</td>\n",
              "      <td>1.048575e+06</td>\n",
              "      <td>1.011963e+06</td>\n",
              "      <td>1.048400e+06</td>\n",
              "      <td>1.011963e+06</td>\n",
              "      <td>1.011963e+06</td>\n",
              "      <td>1.014612e+06</td>\n",
              "      <td>1.048575e+06</td>\n",
              "      <td>1.011963e+06</td>\n",
              "      <td>1.014612e+06</td>\n",
              "      <td>1.048575e+06</td>\n",
              "      <td>1.048575e+06</td>\n",
              "      <td>270096.000000</td>\n",
              "      <td>270096.000000</td>\n",
              "      <td>270096.000000</td>\n",
              "      <td>270096.000000</td>\n",
              "      <td>270096.000000</td>\n",
              "    </tr>\n",
              "    <tr>\n",
              "      <th>mean</th>\n",
              "      <td>2008.0</td>\n",
              "      <td>1.422297e+00</td>\n",
              "      <td>1.572409e+01</td>\n",
              "      <td>3.895182e+00</td>\n",
              "      <td>1.343447e+03</td>\n",
              "      <td>1.331361e+03</td>\n",
              "      <td>1.489051e+03</td>\n",
              "      <td>1.497376e+03</td>\n",
              "      <td>2.359956e+03</td>\n",
              "      <td>1.244470e+02</td>\n",
              "      <td>1.249264e+02</td>\n",
              "      <td>1.008480e+02</td>\n",
              "      <td>1.141087e+01</td>\n",
              "      <td>1.245653e+01</td>\n",
              "      <td>6.881744e+02</td>\n",
              "      <td>6.825616e+00</td>\n",
              "      <td>1.678146e+01</td>\n",
              "      <td>3.238967e-02</td>\n",
              "      <td>2.526286e-03</td>\n",
              "      <td>15.708015</td>\n",
              "      <td>3.254199</td>\n",
              "      <td>15.878591</td>\n",
              "      <td>0.083955</td>\n",
              "      <td>21.974676</td>\n",
              "    </tr>\n",
              "    <tr>\n",
              "      <th>std</th>\n",
              "      <td>0.0</td>\n",
              "      <td>4.939256e-01</td>\n",
              "      <td>8.728132e+00</td>\n",
              "      <td>1.938000e+00</td>\n",
              "      <td>4.768043e+02</td>\n",
              "      <td>4.625290e+02</td>\n",
              "      <td>5.027085e+02</td>\n",
              "      <td>4.791596e+02</td>\n",
              "      <td>1.989882e+03</td>\n",
              "      <td>6.770997e+01</td>\n",
              "      <td>6.710413e+01</td>\n",
              "      <td>6.521326e+01</td>\n",
              "      <td>4.093525e+01</td>\n",
              "      <td>3.763313e+01</td>\n",
              "      <td>5.361000e+02</td>\n",
              "      <td>4.890826e+00</td>\n",
              "      <td>1.116645e+01</td>\n",
              "      <td>1.770328e-01</td>\n",
              "      <td>5.019866e-02</td>\n",
              "      <td>39.385498</td>\n",
              "      <td>20.354545</td>\n",
              "      <td>31.174628</td>\n",
              "      <td>1.728502</td>\n",
              "      <td>39.753498</td>\n",
              "    </tr>\n",
              "    <tr>\n",
              "      <th>min</th>\n",
              "      <td>2008.0</td>\n",
              "      <td>1.000000e+00</td>\n",
              "      <td>1.000000e+00</td>\n",
              "      <td>1.000000e+00</td>\n",
              "      <td>1.000000e+00</td>\n",
              "      <td>0.000000e+00</td>\n",
              "      <td>1.000000e+00</td>\n",
              "      <td>1.000000e+00</td>\n",
              "      <td>1.000000e+00</td>\n",
              "      <td>1.500000e+01</td>\n",
              "      <td>-9.000000e+00</td>\n",
              "      <td>0.000000e+00</td>\n",
              "      <td>-9.100000e+01</td>\n",
              "      <td>-9.200000e+01</td>\n",
              "      <td>2.400000e+01</td>\n",
              "      <td>0.000000e+00</td>\n",
              "      <td>0.000000e+00</td>\n",
              "      <td>0.000000e+00</td>\n",
              "      <td>0.000000e+00</td>\n",
              "      <td>0.000000</td>\n",
              "      <td>0.000000</td>\n",
              "      <td>0.000000</td>\n",
              "      <td>0.000000</td>\n",
              "      <td>0.000000</td>\n",
              "    </tr>\n",
              "    <tr>\n",
              "      <th>25%</th>\n",
              "      <td>2008.0</td>\n",
              "      <td>1.000000e+00</td>\n",
              "      <td>8.000000e+00</td>\n",
              "      <td>2.000000e+00</td>\n",
              "      <td>9.350000e+02</td>\n",
              "      <td>9.300000e+02</td>\n",
              "      <td>1.114000e+03</td>\n",
              "      <td>1.119000e+03</td>\n",
              "      <td>6.690000e+02</td>\n",
              "      <td>7.600000e+01</td>\n",
              "      <td>7.800000e+01</td>\n",
              "      <td>5.500000e+01</td>\n",
              "      <td>-9.000000e+00</td>\n",
              "      <td>-4.000000e+00</td>\n",
              "      <td>3.130000e+02</td>\n",
              "      <td>4.000000e+00</td>\n",
              "      <td>1.000000e+01</td>\n",
              "      <td>0.000000e+00</td>\n",
              "      <td>0.000000e+00</td>\n",
              "      <td>0.000000</td>\n",
              "      <td>0.000000</td>\n",
              "      <td>0.000000</td>\n",
              "      <td>0.000000</td>\n",
              "      <td>0.000000</td>\n",
              "    </tr>\n",
              "    <tr>\n",
              "      <th>50%</th>\n",
              "      <td>2008.0</td>\n",
              "      <td>1.000000e+00</td>\n",
              "      <td>1.600000e+01</td>\n",
              "      <td>4.000000e+00</td>\n",
              "      <td>1.334000e+03</td>\n",
              "      <td>1.325000e+03</td>\n",
              "      <td>1.518000e+03</td>\n",
              "      <td>1.520000e+03</td>\n",
              "      <td>1.660000e+03</td>\n",
              "      <td>1.070000e+02</td>\n",
              "      <td>1.070000e+02</td>\n",
              "      <td>8.300000e+01</td>\n",
              "      <td>0.000000e+00</td>\n",
              "      <td>0.000000e+00</td>\n",
              "      <td>5.430000e+02</td>\n",
              "      <td>6.000000e+00</td>\n",
              "      <td>1.400000e+01</td>\n",
              "      <td>0.000000e+00</td>\n",
              "      <td>0.000000e+00</td>\n",
              "      <td>0.000000</td>\n",
              "      <td>0.000000</td>\n",
              "      <td>4.000000</td>\n",
              "      <td>0.000000</td>\n",
              "      <td>0.000000</td>\n",
              "    </tr>\n",
              "    <tr>\n",
              "      <th>75%</th>\n",
              "      <td>2008.0</td>\n",
              "      <td>2.000000e+00</td>\n",
              "      <td>2.300000e+01</td>\n",
              "      <td>5.000000e+00</td>\n",
              "      <td>1.733000e+03</td>\n",
              "      <td>1.720000e+03</td>\n",
              "      <td>1.912000e+03</td>\n",
              "      <td>1.908000e+03</td>\n",
              "      <td>3.818000e+03</td>\n",
              "      <td>1.530000e+02</td>\n",
              "      <td>1.530000e+02</td>\n",
              "      <td>1.280000e+02</td>\n",
              "      <td>1.600000e+01</td>\n",
              "      <td>1.200000e+01</td>\n",
              "      <td>8.990000e+02</td>\n",
              "      <td>8.000000e+00</td>\n",
              "      <td>2.000000e+01</td>\n",
              "      <td>0.000000e+00</td>\n",
              "      <td>0.000000e+00</td>\n",
              "      <td>16.000000</td>\n",
              "      <td>0.000000</td>\n",
              "      <td>20.000000</td>\n",
              "      <td>0.000000</td>\n",
              "      <td>28.000000</td>\n",
              "    </tr>\n",
              "    <tr>\n",
              "      <th>max</th>\n",
              "      <td>2008.0</td>\n",
              "      <td>2.000000e+00</td>\n",
              "      <td>3.100000e+01</td>\n",
              "      <td>7.000000e+00</td>\n",
              "      <td>2.400000e+03</td>\n",
              "      <td>2.359000e+03</td>\n",
              "      <td>2.400000e+03</td>\n",
              "      <td>2.400000e+03</td>\n",
              "      <td>9.202000e+03</td>\n",
              "      <td>6.930000e+02</td>\n",
              "      <td>1.435000e+03</td>\n",
              "      <td>6.450000e+02</td>\n",
              "      <td>2.461000e+03</td>\n",
              "      <td>2.457000e+03</td>\n",
              "      <td>4.962000e+03</td>\n",
              "      <td>2.130000e+02</td>\n",
              "      <td>3.830000e+02</td>\n",
              "      <td>1.000000e+00</td>\n",
              "      <td>1.000000e+00</td>\n",
              "      <td>1455.000000</td>\n",
              "      <td>1049.000000</td>\n",
              "      <td>1357.000000</td>\n",
              "      <td>149.000000</td>\n",
              "      <td>1143.000000</td>\n",
              "    </tr>\n",
              "  </tbody>\n",
              "</table>\n",
              "</div>"
            ],
            "text/plain": [
              "            Year         Month  ...  SecurityDelay  LateAircraftDelay\n",
              "count  1048575.0  1.048575e+06  ...  270096.000000      270096.000000\n",
              "mean      2008.0  1.422297e+00  ...       0.083955          21.974676\n",
              "std          0.0  4.939256e-01  ...       1.728502          39.753498\n",
              "min       2008.0  1.000000e+00  ...       0.000000           0.000000\n",
              "25%       2008.0  1.000000e+00  ...       0.000000           0.000000\n",
              "50%       2008.0  1.000000e+00  ...       0.000000           0.000000\n",
              "75%       2008.0  2.000000e+00  ...       0.000000          28.000000\n",
              "max       2008.0  2.000000e+00  ...     149.000000        1143.000000\n",
              "\n",
              "[8 rows x 24 columns]"
            ]
          },
          "metadata": {
            "tags": []
          },
          "execution_count": 4
        }
      ]
    },
    {
      "cell_type": "code",
      "metadata": {
        "id": "SWT28UBLzaKs",
        "colab_type": "code",
        "colab": {
          "base_uri": "https://localhost:8080/",
          "height": 521
        },
        "outputId": "19eb57bb-a966-458f-9cfc-553fcb1ac8e1"
      },
      "source": [
        "# Check Missing Values\n",
        "df.isna().sum()"
      ],
      "execution_count": 8,
      "outputs": [
        {
          "output_type": "execute_result",
          "data": {
            "text/plain": [
              "Year                       0\n",
              "Month                      0\n",
              "DayofMonth                 0\n",
              "DayOfWeek                  0\n",
              "DepTime                33963\n",
              "CRSDepTime                 0\n",
              "ArrTime                36612\n",
              "CRSArrTime                 0\n",
              "UniqueCarrier              0\n",
              "FlightNum                  0\n",
              "TailNum                20276\n",
              "ActualElapsedTime      36612\n",
              "CRSElapsedTime           175\n",
              "AirTime                36612\n",
              "ArrDelay               36612\n",
              "DepDelay               33963\n",
              "Origin                     0\n",
              "Dest                       0\n",
              "Distance                   0\n",
              "TaxiIn                 36612\n",
              "TaxiOut                33963\n",
              "Cancelled                  0\n",
              "CancellationCode     1014612\n",
              "Diverted                   0\n",
              "CarrierDelay          778479\n",
              "WeatherDelay          778479\n",
              "NASDelay              778479\n",
              "SecurityDelay         778479\n",
              "LateAircraftDelay     778479\n",
              "dtype: int64"
            ]
          },
          "metadata": {
            "tags": []
          },
          "execution_count": 8
        }
      ]
    },
    {
      "cell_type": "markdown",
      "metadata": {
        "id": "t8N-cJ_WzJSh",
        "colab_type": "text"
      },
      "source": [
        "# Model"
      ]
    },
    {
      "cell_type": "code",
      "metadata": {
        "id": "PgXNMyeMzZmw",
        "colab_type": "code",
        "colab": {}
      },
      "source": [
        ""
      ],
      "execution_count": 0,
      "outputs": []
    },
    {
      "cell_type": "markdown",
      "metadata": {
        "id": "IeuAjoYczKSe",
        "colab_type": "text"
      },
      "source": [
        "# Conclusion"
      ]
    }
  ]
}